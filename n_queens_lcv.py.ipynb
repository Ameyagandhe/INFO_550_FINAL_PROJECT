{
 "cells": [
  {
   "cell_type": "markdown",
   "id": "4ea9e307",
   "metadata": {},
   "source": [
    "# N-Queens Using LCV Heuristic:\n",
    "LCV orders the values in the domain of a variable by the number of constraints they impose on neighboring variables. In this n-Queens problem, we can sort the column values by the number of conflicts they would create. We have applied this heuristic to the backtracking search. Here's the implementation of the n-Queens problem using backtracking with the LCV heuristic"
   ]
  },
  {
   "cell_type": "code",
   "execution_count": 7,
   "id": "79385a85",
   "metadata": {},
   "outputs": [],
   "source": [
    "import timeit"
   ]
  },
  {
   "cell_type": "markdown",
   "id": "e08f1e1d",
   "metadata": {},
   "source": [
    "# is_safe function: \n",
    "The is_safe functions checks if it is safe to place a queen in the given row and col of the board, without any conflicts with other queens."
   ]
  },
  {
   "cell_type": "code",
   "execution_count": 8,
   "id": "ddc50d4e",
   "metadata": {},
   "outputs": [],
   "source": [
    "def is_safe(board, row, col, n):\n",
    "    for i in range(n):\n",
    "        if board[row][i] == 1 or board[i][col] == 1:\n",
    "            return False\n",
    "        if 0 <= row - i < n and 0 <= col - i < n and board[row - i][col - i] == 1:\n",
    "            return False\n",
    "        if 0 <= row - i < n and 0 <= col + i < n and board[row - i][col + i] == 1:\n",
    "            return False\n",
    "    return True"
   ]
  },
  {
   "cell_type": "markdown",
   "id": "377511f3",
   "metadata": {},
   "source": [
    "# count_conflicts function: \n",
    "The count_conflicts function counts the number of conflicts (queens attacking each other) that would arise if a queen were placed at the given row and col of the board."
   ]
  },
  {
   "cell_type": "code",
   "execution_count": 9,
   "id": "f7435d1d",
   "metadata": {},
   "outputs": [],
   "source": [
    "def count_conflicts(board, row, col, n):\n",
    "    conflicts = 0\n",
    "    for i in range(n):\n",
    "        if i != row and board[i][col] == 1:\n",
    "            conflicts += 1\n",
    "        if 0 <= row - i < n and 0 <= col - i < n and i != 0 and board[row - i][col - i] == 1:\n",
    "            conflicts += 1\n",
    "        if 0 <= row - i < n and 0 <= col + i < n and i != 0 and board[row - i][col + i] == 1:\n",
    "            conflicts += 1\n",
    "    return conflicts"
   ]
  },
  {
   "cell_type": "markdown",
   "id": "87710a4d",
   "metadata": {},
   "source": [
    "# lcv function: \n",
    "The lcv function returns a list of columns in the given row, sorted by the Least Constraining Value (LCV) heuristic, which is based on the number of conflicts that would arise for each column."
   ]
  },
  {
   "cell_type": "code",
   "execution_count": 10,
   "id": "788954ec",
   "metadata": {},
   "outputs": [],
   "source": [
    "def lcv(board, row, n):\n",
    "    return sorted(range(n), key=lambda col: count_conflicts(board, row, col, n))"
   ]
  },
  {
   "cell_type": "markdown",
   "id": "9f88cbbf",
   "metadata": {},
   "source": [
    "# solve_n_queens_helper function: \n",
    "The solve_n_queens_helper function is a recursive helper function to solve the n-queens problem by exploring possible placements of queens on the board, starting from the given row."
   ]
  },
  {
   "cell_type": "code",
   "execution_count": 11,
   "id": "c0973e0e",
   "metadata": {},
   "outputs": [],
   "source": [
    "def solve_n_queens_helper(board, row, n):\n",
    "    if row == n:\n",
    "        return board\n",
    "\n",
    "    for col in lcv(board, row, n):\n",
    "        if is_safe(board, row, col, n):\n",
    "            board[row][col] = 1\n",
    "            result = solve_n_queens_helper(board, row + 1, n)\n",
    "            if result:\n",
    "                return result\n",
    "            board[row][col] = 0\n",
    "\n",
    "    return None"
   ]
  },
  {
   "cell_type": "markdown",
   "id": "08600fdf",
   "metadata": {},
   "source": [
    "# solve_n_queens function: \n",
    "The solve_n_queens function initializes the board and calls the helper function to find a solution."
   ]
  },
  {
   "cell_type": "code",
   "execution_count": 12,
   "id": "7954fed6",
   "metadata": {},
   "outputs": [],
   "source": [
    "def solve_n_queens(n):\n",
    "    board = [[0 for _ in range(n)] for _ in range(n)]\n",
    "    solution = solve_n_queens_helper(board, 0, n)\n",
    "\n",
    "    if solution is None:\n",
    "        print(\"No solution exists.\")\n",
    "        return\n",
    "\n",
    "    for row in solution:\n",
    "        print(\"\".join([\"Q\" if x == 1 else \".\" for x in row]))"
   ]
  },
  {
   "cell_type": "code",
   "execution_count": 13,
   "id": "ef1eede6",
   "metadata": {},
   "outputs": [],
   "source": [
    "def lcv_solve_n_queens():\n",
    "    n = 8  # Change this value to solve for a different size of the board\n",
    "    solve_n_queens(n)"
   ]
  },
  {
   "cell_type": "code",
   "execution_count": 14,
   "id": "7195d5aa",
   "metadata": {},
   "outputs": [
    {
     "name": "stdout",
     "output_type": "stream",
     "text": [
      "Q.......\n",
      "....Q...\n",
      ".......Q\n",
      ".....Q..\n",
      "..Q.....\n",
      "......Q.\n",
      ".Q......\n",
      "...Q....\n",
      "LCV:  0.0025095999999393825\n"
     ]
    }
   ],
   "source": [
    "if __name__ == \"__main__\":\n",
    "    lcv_time = timeit.timeit(\"lcv_solve_n_queens()\", setup=\"from __main__ import lcv_solve_n_queens\", number=1)\n",
    "    print(\"LCV: \", lcv_time)"
   ]
  }
 ],
 "metadata": {
  "kernelspec": {
   "display_name": "Python 3 (ipykernel)",
   "language": "python",
   "name": "python3"
  },
  "language_info": {
   "codemirror_mode": {
    "name": "ipython",
    "version": 3
   },
   "file_extension": ".py",
   "mimetype": "text/x-python",
   "name": "python",
   "nbconvert_exporter": "python",
   "pygments_lexer": "ipython3",
   "version": "3.9.13"
  }
 },
 "nbformat": 4,
 "nbformat_minor": 5
}
