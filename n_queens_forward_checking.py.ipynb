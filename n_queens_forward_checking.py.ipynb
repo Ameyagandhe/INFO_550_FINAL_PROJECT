{
 "cells": [
  {
   "cell_type": "markdown",
   "id": "d58bb962",
   "metadata": {},
   "source": [
    "# Forward Checking: \n",
    "The n-Queens problem is a classic constraint satisfaction problem (CSP) where the task is to place n queens on an n x n chessboard in such a way that no two queens threaten each other. This means that no two queens can share the same row, column, or diagonal. Here, I am discuss how to apply Forward Checking to solve the n-Queens problem. \n",
    "Forward Checking is an extension of backtracking that maintains a list of valid domains for each variable, reducing the search space. The algorithm updates the domains of unassigned variables after each assignment, removing values that would lead to constraint violations. Here's how I applied forward checking to the n-Queens problem"
   ]
  },
  {
   "cell_type": "code",
   "execution_count": 17,
   "id": "e05f817d",
   "metadata": {},
   "outputs": [],
   "source": [
    "import timeit"
   ]
  },
  {
   "cell_type": "markdown",
   "id": "9b183b26",
   "metadata": {},
   "source": [
    "# is safe Function:\n",
    "is_safe function to check if placing a queen in a given cell is safe (i.e., no conflicts with other queens)"
   ]
  },
  {
   "cell_type": "code",
   "execution_count": 18,
   "id": "39e98250",
   "metadata": {},
   "outputs": [],
   "source": [
    "def is_safe(row, col, solution):\n",
    "    for r, c in solution.items():\n",
    "        if c == col or abs(row - r) == abs(col - c):\n",
    "            return False\n",
    "    return True"
   ]
  },
  {
   "cell_type": "markdown",
   "id": "36f8ba09",
   "metadata": {},
   "source": [
    "# update_domains Function:\n",
    "The update_domains function updates the domains of unassigned variables based on the current assignment."
   ]
  },
  {
   "cell_type": "code",
   "execution_count": 19,
   "id": "c1fad981",
   "metadata": {},
   "outputs": [],
   "source": [
    "def update_domains(row, col, domains, solution, n):\n",
    "    new_domains = domains.copy()\n",
    "    for r in range(row + 1, n):\n",
    "        new_domains[r] = [c for c in new_domains[r] if is_safe(r, c, {**solution, **{row: col}})]\n",
    "    return new_domains"
   ]
  },
  {
   "cell_type": "markdown",
   "id": "77fe601f",
   "metadata": {},
   "source": [
    "# solve_n_queens_helper Function:\n",
    "The solve_n_queens_helper function is a recursive function that implements the forward checking algorithm"
   ]
  },
  {
   "cell_type": "code",
   "execution_count": 20,
   "id": "9648cfad",
   "metadata": {},
   "outputs": [],
   "source": [
    "def solve_n_queens_helper(row, solution, domains, n):\n",
    "    if row == n:\n",
    "        return solution\n",
    "\n",
    "    for col in domains[row]:\n",
    "        new_domains = update_domains(row, col, domains, solution, n)\n",
    "        result = solve_n_queens_helper(row + 1, {**solution, **{row: col}}, new_domains, n)\n",
    "        if result:\n",
    "            return result\n",
    "\n",
    "    return None"
   ]
  },
  {
   "cell_type": "markdown",
   "id": "dbdb3531",
   "metadata": {},
   "source": [
    "# solve_n_queens Function: \n",
    "The solve_n_queens function initializes the domains and starts the search."
   ]
  },
  {
   "cell_type": "code",
   "execution_count": 21,
   "id": "09ecd71b",
   "metadata": {},
   "outputs": [],
   "source": [
    "def solve_n_queens(n):\n",
    "    domains = {i: list(range(n)) for i in range(n)}\n",
    "    solution = solve_n_queens_helper(0, {}, domains, n)\n",
    "\n",
    "    if solution is None:\n",
    "        print(\"No solution exists.\")\n",
    "        return\n",
    "\n",
    "    board = [[\".\" for _ in range(n)] for _ in range(n)]\n",
    "    for row, col in solution.items():\n",
    "        board[row][col] = \"Q\"\n",
    "\n",
    "    for row in board:\n",
    "        print(\" \".join(row))"
   ]
  },
  {
   "cell_type": "markdown",
   "id": "45818ca0",
   "metadata": {},
   "source": [
    "# #forward_checking_solve_n_queens() function:\n",
    "This function calls the solve_n_queens() function and uses the timeit.timeit() to measure the time taken by the function."
   ]
  },
  {
   "cell_type": "code",
   "execution_count": 24,
   "id": "52d9ac95",
   "metadata": {},
   "outputs": [],
   "source": [
    "def forward_checking_solve_n_queens(): \n",
    "    n = 8  # Change this value to solve for a different size of the board\n",
    "    solve_n_queens(n)"
   ]
  },
  {
   "cell_type": "code",
   "execution_count": 25,
   "id": "b9c1f6de",
   "metadata": {},
   "outputs": [
    {
     "name": "stdout",
     "output_type": "stream",
     "text": [
      "Q . . . . . . .\n",
      ". . . . Q . . .\n",
      ". . . . . . . Q\n",
      ". . . . . Q . .\n",
      ". . Q . . . . .\n",
      ". . . . . . Q .\n",
      ". Q . . . . . .\n",
      ". . . Q . . . .\n",
      "Forward Checking:  0.0007807000001776032\n"
     ]
    }
   ],
   "source": [
    "if __name__ == \"__main__\":\n",
    "    forward_checking_time = timeit.timeit(\"forward_checking_solve_n_queens()\", setup=\"from __main__ import forward_checking_solve_n_queens\", number=1)\n",
    "    print(\"Forward Checking: \", forward_checking_time)"
   ]
  },
  {
   "cell_type": "code",
   "execution_count": null,
   "id": "ec65e236",
   "metadata": {},
   "outputs": [],
   "source": []
  }
 ],
 "metadata": {
  "kernelspec": {
   "display_name": "Python 3 (ipykernel)",
   "language": "python",
   "name": "python3"
  },
  "language_info": {
   "codemirror_mode": {
    "name": "ipython",
    "version": 3
   },
   "file_extension": ".py",
   "mimetype": "text/x-python",
   "name": "python",
   "nbconvert_exporter": "python",
   "pygments_lexer": "ipython3",
   "version": "3.9.13"
  }
 },
 "nbformat": 4,
 "nbformat_minor": 5
}
