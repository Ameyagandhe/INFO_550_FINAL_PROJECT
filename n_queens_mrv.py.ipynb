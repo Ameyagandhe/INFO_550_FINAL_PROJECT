{
 "cells": [
  {
   "cell_type": "markdown",
   "id": "2c553f69",
   "metadata": {},
   "source": [
    "# N-Queens Using MRV Heuristic:\n",
    "MRV selects the variable (queen) with the fewest legal values (columns) left in its domain (row). \n",
    "Here's an implementation of the n-Queens problem using backtrackingwith the Minimum Remaining Values (MRV) heuristic. "
   ]
  },
  {
   "cell_type": "code",
   "execution_count": 11,
   "id": "83fa8d08",
   "metadata": {},
   "outputs": [],
   "source": [
    "import timeit"
   ]
  },
  {
   "cell_type": "markdown",
   "id": "ff4aa83e",
   "metadata": {},
   "source": [
    "# is-safe function: \n",
    "is_safe function checks if placing a queen in a given cell is safe (i.e., no conflicts with other queens)"
   ]
  },
  {
   "cell_type": "code",
   "execution_count": 12,
   "id": "dddc6459",
   "metadata": {},
   "outputs": [],
   "source": [
    "def is_safe(board, row, col, n):\n",
    "    for i in range(n):\n",
    "        if board[row][i] == 1 or board[i][col] == 1:\n",
    "            return False\n",
    "        if 0 <= row - i < n and 0 <= col - i < n and board[row - i][col - i] == 1:\n",
    "            return False\n",
    "        if 0 <= row - i < n and 0 <= col + i < n and board[row - i][col + i] == 1:\n",
    "            return False\n",
    "    return True"
   ]
  },
  {
   "cell_type": "markdown",
   "id": "4e8f06c4",
   "metadata": {},
   "source": [
    "# mrv function: \n",
    "The mrv function selects the row with the smallest domain size."
   ]
  },
  {
   "cell_type": "code",
   "execution_count": 13,
   "id": "5b64198d",
   "metadata": {},
   "outputs": [],
   "source": [
    "def mrv(domains):\n",
    "    min_remaining_values = float(\"inf\")\n",
    "    mrv_row = None\n",
    "    for row, domain in domains.items():\n",
    "        if 0 < len(domain) < min_remaining_values:\n",
    "            min_remaining_values = len(domain)\n",
    "            mrv_row = row\n",
    "    return mrv_row"
   ]
  },
  {
   "cell_type": "markdown",
   "id": "2fe61eed",
   "metadata": {},
   "source": [
    "# update_domains function: \n",
    "The update_domains function updates the domains of unassigned rows by removing column positions that would lead to constraint violations"
   ]
  },
  {
   "cell_type": "markdown",
   "id": "c17482f0",
   "metadata": {},
   "source": [
    "# solve_n_queens_helper function: \n",
    "solve_n_queens_helper function recursively assigns queens to rows and updates the domains using the MRV heuristic."
   ]
  },
  {
   "cell_type": "code",
   "execution_count": 14,
   "id": "44c1da67",
   "metadata": {},
   "outputs": [],
   "source": [
    "def solve_n_queens_helper(board, domains, n):\n",
    "    if len(domains) == 0:\n",
    "        return board\n",
    "\n",
    "    row = mrv(domains)\n",
    "    for col in domains[row]:\n",
    "        if is_safe(board, row, col, n):\n",
    "            board[row][col] = 1\n",
    "            new_domains = domains.copy()\n",
    "            del new_domains[row]\n",
    "            result = solve_n_queens_helper(board, new_domains, n)\n",
    "            if result:\n",
    "                return result\n",
    "            board[row][col] = 0\n",
    "\n",
    "    return None"
   ]
  },
  {
   "cell_type": "markdown",
   "id": "fcf8ed9c",
   "metadata": {},
   "source": [
    "# solve_n_queens function: \n",
    "solve_n_queens function initializes the domains and calls the helper function to find a solution."
   ]
  },
  {
   "cell_type": "code",
   "execution_count": 15,
   "id": "1212ae86",
   "metadata": {},
   "outputs": [
    {
     "name": "stdout",
     "output_type": "stream",
     "text": [
      "Q.......\n",
      "....Q...\n",
      ".......Q\n",
      ".....Q..\n",
      "..Q.....\n",
      "......Q.\n",
      ".Q......\n",
      "...Q....\n"
     ]
    }
   ],
   "source": [
    "def solve_n_queens(n):\n",
    "    board = [[0 for _ in range(n)] for _ in range(n)]\n",
    "    domains = {i: list(range(n)) for i in range(n)}\n",
    "    solution = solve_n_queens_helper(board, domains, n)\n",
    "\n",
    "    if solution is None:\n",
    "        print(\"No solution exists.\")\n",
    "        return\n",
    "\n",
    "    for row in solution:\n",
    "        print(\"\".join([\"Q\" if x == 1 else \".\" for x in row]))\n",
    "\n",
    "if __name__ == \"__main__\":\n",
    "    n = 8  # Change this value to solve for a different size of the board\n",
    "    solve_n_queens(n)"
   ]
  },
  {
   "cell_type": "markdown",
   "id": "a16a2679",
   "metadata": {},
   "source": [
    "# mrv_solve_n_queens() function: \n",
    "This function calls the solve_n_queens() function and uses the timeit.timeit() to measure the time taken by the function."
   ]
  },
  {
   "cell_type": "code",
   "execution_count": 16,
   "id": "34b1dde9",
   "metadata": {},
   "outputs": [],
   "source": [
    "def mrv_solve_n_queens():\n",
    "    n = 8  # Change this value to solve for a different size of the board\n",
    "    solve_n_queens(n)"
   ]
  },
  {
   "cell_type": "code",
   "execution_count": 17,
   "id": "555e2385",
   "metadata": {},
   "outputs": [
    {
     "name": "stdout",
     "output_type": "stream",
     "text": [
      "Q.......\n",
      "....Q...\n",
      ".......Q\n",
      ".....Q..\n",
      "..Q.....\n",
      "......Q.\n",
      ".Q......\n",
      "...Q....\n",
      "MRV:  0.0018515000001571025\n"
     ]
    }
   ],
   "source": [
    "if __name__ == \"__main__\":\n",
    "    mrv_time = timeit.timeit(\"mrv_solve_n_queens()\", setup=\"from __main__ import mrv_solve_n_queens\", number=1)\n",
    "    print(\"MRV: \", mrv_time)"
   ]
  },
  {
   "cell_type": "code",
   "execution_count": null,
   "id": "eefc080a",
   "metadata": {},
   "outputs": [],
   "source": []
  }
 ],
 "metadata": {
  "kernelspec": {
   "display_name": "Python 3 (ipykernel)",
   "language": "python",
   "name": "python3"
  },
  "language_info": {
   "codemirror_mode": {
    "name": "ipython",
    "version": 3
   },
   "file_extension": ".py",
   "mimetype": "text/x-python",
   "name": "python",
   "nbconvert_exporter": "python",
   "pygments_lexer": "ipython3",
   "version": "3.9.13"
  }
 },
 "nbformat": 4,
 "nbformat_minor": 5
}
