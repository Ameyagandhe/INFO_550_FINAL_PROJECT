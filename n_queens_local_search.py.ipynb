{
 "cells": [
  {
   "cell_type": "markdown",
   "id": "8278617b",
   "metadata": {},
   "source": [
    "# Local Search \n",
    "The n-Queens problem is a classic constraint satisfaction problem (CSP) where the task is to place n queens on an n x n chessboard in such a way that no two queens threaten each other. This means that no two queens can share the same row, column, or diagonal. Here, I am discuss how to apply Backtracking to solve the n-Queens problem.\n",
    "\n",
    "To implement a local search algorithm for the N-Queens problem, we can use the Min-Conflicts heuristic. This algorithm starts with a random placement of queens and iteratively improves the solution by minimizing the number of conflicts."
   ]
  },
  {
   "cell_type": "code",
   "execution_count": 25,
   "id": "056aad77",
   "metadata": {},
   "outputs": [],
   "source": [
    "import random \n",
    "import timeit"
   ]
  },
  {
   "cell_type": "markdown",
   "id": "c29f7027",
   "metadata": {},
   "source": [
    "# conflicts_randomly function: \n",
    "Randomly places queens in each column of the board."
   ]
  },
  {
   "cell_type": "code",
   "execution_count": 26,
   "id": "a4d7fcc9",
   "metadata": {},
   "outputs": [],
   "source": [
    "def configure_randomly(board, state, n):\n",
    "    for i in range(n):\n",
    "        state[i] = random.randint(0, 100000) % n\n",
    "        board[state[i]][i] = 1"
   ]
  },
  {
   "cell_type": "markdown",
   "id": "1b095611",
   "metadata": {},
   "source": [
    "# print_board function: \n",
    "Prints the current board configuration."
   ]
  },
  {
   "cell_type": "code",
   "execution_count": 27,
   "id": "378ff5ad",
   "metadata": {},
   "outputs": [],
   "source": [
    "def print_board(board):\n",
    "    for row in board:\n",
    "        print(\"\".join([\"Q\" if x == 1 else \".\" for x in row]))"
   ]
  },
  {
   "cell_type": "markdown",
   "id": "4f80ef9a",
   "metadata": {},
   "source": [
    "# compare_states function and fill function:\n",
    "Compares two states, returns True if they are equal and False otherwise and Fills the board with the specified value.."
   ]
  },
  {
   "cell_type": "code",
   "execution_count": 28,
   "id": "3fb4e3f3",
   "metadata": {},
   "outputs": [],
   "source": [
    "def compare_states(state1, state2):\n",
    "    return state1 == state2\n",
    "\n",
    "def fill(board, value):\n",
    "    for i in range(len(board)):\n",
    "        for j in range(len(board[i])):\n",
    "            board[i][j] = value"
   ]
  },
  {
   "cell_type": "markdown",
   "id": "8c8f49ee",
   "metadata": {},
   "source": [
    "# calculate_objective function:\n",
    "Calculates the number of queen pairs attacking each other."
   ]
  },
  {
   "cell_type": "code",
   "execution_count": 29,
   "id": "0d4da583",
   "metadata": {},
   "outputs": [],
   "source": [
    "def calculate_objective(board, state):\n",
    "    n = len(board)\n",
    "    attacking = 0\n",
    "    for i in range(n):\n",
    "        row = state[i]\n",
    "        col = i - 1\n",
    "        while col >= 0 and board[row][col] != 1:\n",
    "            col -= 1\n",
    "        if col >= 0 and board[row][col] == 1:\n",
    "            attacking += 1\n",
    "        row = state[i]\n",
    "        col = i + 1\n",
    "        while col < n and board[row][col] != 1:\n",
    "            col += 1\n",
    "        if col < n and board[row][col] == 1:\n",
    "            attacking += 1\n",
    "        row = state[i] - 1\n",
    "        col = i - 1\n",
    "        while col >= 0 and row >= 0 and board[row][col] != 1:\n",
    "            col -= 1\n",
    "            row -= 1\n",
    "        if col >= 0 and row >= 0 and board[row][col] == 1:\n",
    "            attacking += 1\n",
    "        row = state[i] + 1\n",
    "        col = i + 1\n",
    "        while col < n and row < n and board[row][col] != 1:\n",
    "            col += 1\n",
    "            row += 1\n",
    "        if col < n and row < n and board[row][col] == 1:\n",
    "            attacking += 1\n",
    "        row = state[i] + 1\n",
    "        col = i - 1\n",
    "        while col >= 0 and row < n and board[row][col] != 1:\n",
    "            col -= 1\n",
    "            row += 1\n",
    "        if col >= 0 and row < n and board[row][col] == 1:\n",
    "            attacking += 1\n",
    "        row = state[i] - 1\n",
    "        col = i + 1\n",
    "        while col < n and row >= 0 and board[row][col] != 1:\n",
    "            col += 1\n",
    "            row -= 1\n",
    "        if col < n and row >= 0 and board[row][col] == 1:\n",
    "            attacking += 1\n",
    "    return int(attacking / 2)"
   ]
  },
  {
   "cell_type": "markdown",
   "id": "25878171",
   "metadata": {},
   "source": [
    "# generate_board function: \n",
    "Generates the board configuration based on the given state."
   ]
  },
  {
   "cell_type": "code",
   "execution_count": 30,
   "id": "5811c9eb",
   "metadata": {},
   "outputs": [],
   "source": [
    "def generate_board(board, state):\n",
    "    fill(board, 0)\n",
    "    for i in range(len(state)):\n",
    "        board[state[i]][i] = 1"
   ]
  },
  {
   "cell_type": "markdown",
   "id": "07197e7d",
   "metadata": {},
   "source": [
    "# get_neighbour function: \n",
    "Finds the neighbor with the lowest objective value among all neighbors and the current state."
   ]
  },
  {
   "cell_type": "code",
   "execution_count": 31,
   "id": "f3741979",
   "metadata": {},
   "outputs": [],
   "source": [
    "def get_neighbour(board, state):\n",
    "    n = len(board)\n",
    "    op_board = [[0 for _ in range(n)] for _ in range(n)]\n",
    "    op_state = state.copy()\n",
    "    generate_board(op_board, op_state)\n",
    "    op_objective = calculate_objective(op_board, op_state)\n",
    "    neighbour_board = [[0 for _ in range(n)] for _ in range(n)]\n",
    "    neighbour_state = state.copy()\n",
    "    generate_board(neighbour_board, neighbour_state)\n",
    "\n",
    "    for i in range(n):\n",
    "        for j in range(n):\n",
    "            if j != state[i]:\n",
    "                neighbour_state[i] = j\n",
    "                neighbour_board[neighbour_state[i]][i] = 1\n",
    "                neighbour_board[state[i]][i] = 0\n",
    "                temp = calculate_objective(neighbour_board, neighbour_state)\n",
    "\n",
    "                if temp <= op_objective:\n",
    "                    op_objective = temp\n",
    "                    op_state = neighbour_state.copy()\n",
    "                    generate_board(op_board, op_state)\n",
    "\n",
    "                neighbour_board[neighbour_state[i]][i] = 0\n",
    "                neighbour_state[i] = state[i]\n",
    "                neighbour_board[state[i]][i] = 1\n",
    "\n",
    "    state[:] = op_state\n",
    "    generate_board(board, state)"
   ]
  },
  {
   "cell_type": "markdown",
   "id": "7aae4c9f",
   "metadata": {},
   "source": [
    "# hill_climbing function: \n",
    "Performs hill climbing algorithm to find a solution for the N-Queens problem."
   ]
  },
  {
   "cell_type": "code",
   "execution_count": 32,
   "id": "3320d402",
   "metadata": {},
   "outputs": [],
   "source": [
    "def hill_climbing(board, state):\n",
    "    n = len(board)\n",
    "    neighbour_board = [[0 for _ in range(n)] for _ in range(n)]\n",
    "    neighbour_state = state.copy()\n",
    "    generate_board(neighbour_board, neighbour_state)\n",
    "\n",
    "    while True:\n",
    "        state[:] = neighbour_state\n",
    "        generate_board(board, state)\n",
    "        get_neighbour(neighbour_board, neighbour_state)\n",
    "\n",
    "        if compare_states(state, neighbour_state):\n",
    "            print_board(board)\n",
    "            break\n",
    "        elif calculate_objective(board, state) == calculate_objective(neighbour_board, neighbour_state):\n",
    "            neighbour_state[random.randint(0, 100000) % n] = random.randint(0, 100000) % n\n",
    "            generate_board(neighbour_board, neighbour_state)"
   ]
  },
  {
   "cell_type": "code",
   "execution_count": 33,
   "id": "206cb3ea",
   "metadata": {},
   "outputs": [
    {
     "name": "stdout",
     "output_type": "stream",
     "text": [
      "...Q....\n",
      "Q.......\n",
      "....Q...\n",
      ".......Q\n",
      ".....Q..\n",
      "..Q.....\n",
      "......Q.\n",
      ".Q......\n"
     ]
    }
   ],
   "source": [
    "if __name__ == \"__main__\":\n",
    "    n = 8\n",
    "    state = [0] * n\n",
    "    board = [[0 for _ in range(n)] for _ in range(n)]\n",
    "    configure_randomly(board, state, n)\n",
    "    hill_climbing(board, state)"
   ]
  },
  {
   "cell_type": "markdown",
   "id": "8d87212b",
   "metadata": {},
   "source": [
    "# run_hill_climbing: "
   ]
  },
  {
   "cell_type": "code",
   "execution_count": 38,
   "id": "b89347d0",
   "metadata": {},
   "outputs": [
    {
     "name": "stdout",
     "output_type": "stream",
     "text": [
      ".Q......\n",
      "....Q...\n",
      "......Q.\n",
      "...Q....\n",
      "Q.......\n",
      ".......Q\n",
      ".....Q..\n",
      "..Q.....\n",
      "Time taken for local search: 0.11355849999927159 seconds\n"
     ]
    }
   ],
   "source": [
    "def run_hill_climbing():\n",
    "    n = 8\n",
    "    state = [0] * n\n",
    "    board = [[0 for _ in range(n)] for _ in range(n)]\n",
    "    configure_randomly(board, state, n)\n",
    "    hill_climbing(board, state)\n",
    "\n",
    "if __name__ == \"__main__\":\n",
    "    time_taken = timeit.timeit(run_hill_climbing, number=1)\n",
    "    print(f\"Time taken for local search: {time_taken} seconds\")"
   ]
  },
  {
   "cell_type": "code",
   "execution_count": null,
   "id": "5afd7d19",
   "metadata": {},
   "outputs": [],
   "source": []
  }
 ],
 "metadata": {
  "kernelspec": {
   "display_name": "Python 3 (ipykernel)",
   "language": "python",
   "name": "python3"
  },
  "language_info": {
   "codemirror_mode": {
    "name": "ipython",
    "version": 3
   },
   "file_extension": ".py",
   "mimetype": "text/x-python",
   "name": "python",
   "nbconvert_exporter": "python",
   "pygments_lexer": "ipython3",
   "version": "3.9.13"
  }
 },
 "nbformat": 4,
 "nbformat_minor": 5
}
