{
 "cells": [
  {
   "cell_type": "markdown",
   "id": "5f4ed2cd",
   "metadata": {},
   "source": [
    "# Backtracking:\n",
    "\n",
    "The n-Queens problem is a classic constraint satisfaction problem (CSP) where the task is to place n queens on an n x n chessboard in such a way that no two queens threaten each other. This means that no two queens can share the same row, column, or diagonal. Here, I am discuss how to apply Backtracking to solve the n-Queens problem.  \n",
    "Backtracking is a depth-first search algorithm that incrementally builds a solution by exploring different possibilities for each variable, while respecting the constraints. If a partial solution violates a constraint, the algorithm backtracks to the previous variable and tries a different assignment. Here's how I applied backtracking to the n-Queens problem \n"
   ]
  },
  {
   "cell_type": "code",
   "execution_count": 7,
   "id": "e27c79a3",
   "metadata": {},
   "outputs": [],
   "source": [
    "import timeit"
   ]
  },
  {
   "cell_type": "markdown",
   "id": "1492dba5",
   "metadata": {},
   "source": [
    "# is_safe Funtion:\n",
    "is_safe function checks if it is safe to place a queen in a given cell"
   ]
  },
  {
   "cell_type": "code",
   "execution_count": 8,
   "id": "28784829",
   "metadata": {},
   "outputs": [],
   "source": [
    "def is_safe(board, row, col, n):\n",
    "    # Check the same column\n",
    "    for i in range(row):\n",
    "        if board[i][col] == 1:\n",
    "            return False\n",
    "\n",
    "    # Check upper diagonal on the left side\n",
    "    for i, j in zip(range(row, -1, -1), range(col, -1, -1)):\n",
    "        if board[i][j] == 1:\n",
    "            return False\n",
    "\n",
    "    # Check upper diagonal on the right side\n",
    "    for i, j in zip(range(row, -1, -1), range(col, n)):\n",
    "        if board[i][j] == 1:\n",
    "            return False\n",
    "\n",
    "    return True\n"
   ]
  },
  {
   "cell_type": "markdown",
   "id": "b057e6c8",
   "metadata": {},
   "source": [
    "# solve_n_queens_helper Function : \n",
    "solve_n_queens_helper function is the recursive function that implements the backtracking algorithm"
   ]
  },
  {
   "cell_type": "code",
   "execution_count": 9,
   "id": "f7bf797c",
   "metadata": {},
   "outputs": [],
   "source": [
    "def solve_n_queens_helper(board, row, n):\n",
    "    if row == n:\n",
    "        return True\n",
    "\n",
    "    for col in range(n):\n",
    "        if is_safe(board, row, col, n):\n",
    "            board[row][col] = 1\n",
    "\n",
    "            if solve_n_queens_helper(board, row + 1, n):\n",
    "                return True\n",
    "\n",
    "            # Backtrack\n",
    "            board[row][col] = 0\n",
    "\n",
    "    return False\n"
   ]
  },
  {
   "cell_type": "markdown",
   "id": "197465ca",
   "metadata": {},
   "source": [
    "# solve_n_queens Function : \n",
    "solve_n_queens function initializes the board and starts the search."
   ]
  },
  {
   "cell_type": "code",
   "execution_count": 10,
   "id": "fa1124c2",
   "metadata": {},
   "outputs": [],
   "source": [
    "def solve_n_queens(n):\n",
    "    board = [[0 for _ in range(n)] for _ in range(n)]\n",
    "\n",
    "    if not solve_n_queens_helper(board, 0, n):\n",
    "        print(\"No solution exists.\")\n",
    "        return\n",
    "\n",
    "    for row in board:\n",
    "        print(\" \".join([\"Q\" if x == 1 else \".\" for x in row]))\n"
   ]
  },
  {
   "cell_type": "markdown",
   "id": "3a233ee5",
   "metadata": {},
   "source": [
    "# backtracking_solve_n_queens() function:\n",
    "This function calls the solve_n_queens() function and uses the timeit.timeit() to measure the time taken by the function."
   ]
  },
  {
   "cell_type": "code",
   "execution_count": 11,
   "id": "97a42bc8",
   "metadata": {},
   "outputs": [],
   "source": [
    "def backtracking_solve_n_queens():\n",
    "    n = 8  # Change this value to solve for a different size of the board\n",
    "    solve_n_queens(n)"
   ]
  },
  {
   "cell_type": "code",
   "execution_count": 12,
   "id": "aa908719",
   "metadata": {},
   "outputs": [
    {
     "name": "stdout",
     "output_type": "stream",
     "text": [
      "Q . . . . . . .\n",
      ". . . . Q . . .\n",
      ". . . . . . . Q\n",
      ". . . . . Q . .\n",
      ". . Q . . . . .\n",
      ". . . . . . Q .\n",
      ". Q . . . . . .\n",
      ". . . Q . . . .\n",
      "Backtracking:  0.000540700000783545\n"
     ]
    }
   ],
   "source": [
    "if __name__ == \"__main__\":\n",
    "    backtracking_time = timeit.timeit(\"backtracking_solve_n_queens()\", setup=\"from __main__ import backtracking_solve_n_queens\", number=1)\n",
    "    print(\"Backtracking: \", backtracking_time)"
   ]
  }
 ],
 "metadata": {
  "kernelspec": {
   "display_name": "Python 3 (ipykernel)",
   "language": "python",
   "name": "python3"
  },
  "language_info": {
   "codemirror_mode": {
    "name": "ipython",
    "version": 3
   },
   "file_extension": ".py",
   "mimetype": "text/x-python",
   "name": "python",
   "nbconvert_exporter": "python",
   "pygments_lexer": "ipython3",
   "version": "3.9.13"
  }
 },
 "nbformat": 4,
 "nbformat_minor": 5
}
